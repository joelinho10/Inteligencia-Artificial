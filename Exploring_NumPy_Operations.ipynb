{
  "nbformat": 4,
  "nbformat_minor": 0,
  "metadata": {
    "colab": {
      "provenance": [],
      "include_colab_link": true
    },
    "kernelspec": {
      "name": "python3",
      "display_name": "Python 3"
    },
    "language_info": {
      "name": "python"
    }
  },
  "cells": [
    {
      "cell_type": "markdown",
      "metadata": {
        "id": "view-in-github",
        "colab_type": "text"
      },
      "source": [
        "<a href=\"https://colab.research.google.com/github/joelinho10/Inteligencia-Artificial/blob/main/Exploring_NumPy_Operations.ipynb\" target=\"_parent\"><img src=\"https://colab.research.google.com/assets/colab-badge.svg\" alt=\"Open In Colab\"/></a>"
      ]
    },
    {
      "cell_type": "markdown",
      "source": [
        "NumPy Exercises for Data Analysis\n",
        "\n",
        "Erik Joel Olmedo Zambrano"
      ],
      "metadata": {
        "id": "hSsi2_-klame"
      }
    },
    {
      "cell_type": "code",
      "source": [
        "# Import numpy as np and see the version\n",
        "# your code here\n",
        "import numpy as np\n",
        "print (np.__version__)"
      ],
      "metadata": {
        "id": "kuK4TNepldem",
        "outputId": "7381db53-29b0-4bf9-c780-291a617cbb39",
        "colab": {
          "base_uri": "https://localhost:8080/"
        }
      },
      "execution_count": 1,
      "outputs": [
        {
          "output_type": "stream",
          "name": "stdout",
          "text": [
            "1.23.5\n"
          ]
        }
      ]
    },
    {
      "cell_type": "code",
      "source": [
        "# Create a 1D array of numbers from 0 to 9\n",
        "# your code here\n",
        "a = np.arange(10)\n",
        "print (a)\n",
        "print (a.shape)"
      ],
      "metadata": {
        "id": "hbYX-oMBlvS-",
        "outputId": "272bb2bc-70a3-4a56-9fd7-aa93b90dce2c",
        "colab": {
          "base_uri": "https://localhost:8080/"
        }
      },
      "execution_count": 2,
      "outputs": [
        {
          "output_type": "stream",
          "name": "stdout",
          "text": [
            "[0 1 2 3 4 5 6 7 8 9]\n",
            "(10,)\n"
          ]
        }
      ]
    },
    {
      "cell_type": "code",
      "source": [
        "# Create random vector of size 10 and replace the maximum value by 0\n",
        "b = np.random.randint(1,11,[10])\n",
        "print (b)\n",
        "maxnum = np.argmax(b)\n",
        "b[maxnum] = 0\n",
        "print (b)\n",
        "print (b.shape)"
      ],
      "metadata": {
        "id": "HfsNmdvrwqsO",
        "outputId": "6d412507-f3b3-4c00-abe5-9ca8370f14a5",
        "colab": {
          "base_uri": "https://localhost:8080/"
        }
      },
      "execution_count": 3,
      "outputs": [
        {
          "output_type": "stream",
          "name": "stdout",
          "text": [
            "[ 5  3  9 10  4  5  2  8  5 10]\n",
            "[ 5  3  9  0  4  5  2  8  5 10]\n",
            "(10,)\n"
          ]
        }
      ]
    },
    {
      "cell_type": "code",
      "source": [
        "# Print the number 8 from the array below:\n",
        "arr = np.array([[1,2,3,4,5], [6,7,8,9,10]])\n",
        "print (arr[1,2])"
      ],
      "metadata": {
        "id": "a9T-W3uUoqcE",
        "outputId": "cba7818f-31f0-4fb6-98e0-af0e2061ef33",
        "colab": {
          "base_uri": "https://localhost:8080/"
        }
      },
      "execution_count": 4,
      "outputs": [
        {
          "output_type": "stream",
          "name": "stdout",
          "text": [
            "8\n"
          ]
        }
      ]
    },
    {
      "cell_type": "code",
      "source": [
        "# Print the numbers [3, 4, 5] from the array below:\n",
        "arr = np.array([1,2,3,4,5,6,7])\n",
        "print (arr[2:5])"
      ],
      "metadata": {
        "id": "PqvPijs8o2ub",
        "outputId": "0b8d9c1d-bc5d-46f2-d395-e465ca3961ae",
        "colab": {
          "base_uri": "https://localhost:8080/"
        }
      },
      "execution_count": 5,
      "outputs": [
        {
          "output_type": "stream",
          "name": "stdout",
          "text": [
            "[3 4 5]\n"
          ]
        }
      ]
    },
    {
      "cell_type": "code",
      "source": [
        "# Print the last 4 numbers from the array below:\n",
        "arr = np.array([1,2,3,4,5,6,7])\n",
        "print (arr[3:9])"
      ],
      "metadata": {
        "id": "H5iUCizHpk0L",
        "outputId": "db0817ba-adc0-4b46-e8cb-cc6299f769b4",
        "colab": {
          "base_uri": "https://localhost:8080/"
        }
      },
      "execution_count": 6,
      "outputs": [
        {
          "output_type": "stream",
          "name": "stdout",
          "text": [
            "[4 5 6 7]\n"
          ]
        }
      ]
    },
    {
      "cell_type": "code",
      "source": [
        "# Create a 3×3 numpy array of all True’s\n",
        "# your code here\n",
        "arr = np.ones((3,3), dtype=bool)\n",
        "print (arr)"
      ],
      "metadata": {
        "id": "C9nBztXhl9NA",
        "outputId": "261bc0b9-4665-473e-e85b-1b7f3c9493ae",
        "colab": {
          "base_uri": "https://localhost:8080/"
        }
      },
      "execution_count": 7,
      "outputs": [
        {
          "output_type": "stream",
          "name": "stdout",
          "text": [
            "[[ True  True  True]\n",
            " [ True  True  True]\n",
            " [ True  True  True]]\n"
          ]
        }
      ]
    },
    {
      "cell_type": "code",
      "source": [
        "# Extract all odd numbers from arr\n",
        "odd_numbers = arr[arr % 2 != 0]\n",
        "print(odd_numbers)"
      ],
      "metadata": {
        "id": "W18lqbBwmIhw",
        "colab": {
          "base_uri": "https://localhost:8080/"
        },
        "outputId": "4b6454e7-0958-41ff-d770-25d79a3ce82c"
      },
      "execution_count": 9,
      "outputs": [
        {
          "output_type": "stream",
          "name": "stdout",
          "text": [
            "[ True  True  True  True  True  True  True  True  True]\n"
          ]
        }
      ]
    },
    {
      "cell_type": "code",
      "source": [
        "# Create a vector with values ranging from 10 to 49 (★☆☆)\n",
        "vector = np.arange(10, 50)\n",
        "print(vector)"
      ],
      "metadata": {
        "id": "hA9iXCAwr55v",
        "colab": {
          "base_uri": "https://localhost:8080/"
        },
        "outputId": "abf21cd9-a95e-4a1c-e39a-ba26918a6913"
      },
      "execution_count": 10,
      "outputs": [
        {
          "output_type": "stream",
          "name": "stdout",
          "text": [
            "[10 11 12 13 14 15 16 17 18 19 20 21 22 23 24 25 26 27 28 29 30 31 32 33\n",
            " 34 35 36 37 38 39 40 41 42 43 44 45 46 47 48 49]\n"
          ]
        }
      ]
    },
    {
      "cell_type": "code",
      "source": [
        "# Reverse a vector (first element becomes last)\n",
        "reversed_vector = np.flip(vector)\n",
        "print(reversed_vector)"
      ],
      "metadata": {
        "id": "R-_IjeHyr83q",
        "colab": {
          "base_uri": "https://localhost:8080/"
        },
        "outputId": "80e1781a-b24d-4c32-956a-e25fff5b706c"
      },
      "execution_count": 11,
      "outputs": [
        {
          "output_type": "stream",
          "name": "stdout",
          "text": [
            "[49 48 47 46 45 44 43 42 41 40 39 38 37 36 35 34 33 32 31 30 29 28 27 26\n",
            " 25 24 23 22 21 20 19 18 17 16 15 14 13 12 11 10]\n"
          ]
        }
      ]
    },
    {
      "cell_type": "code",
      "source": [
        "#  Create a 10x10 array with random integer values and find the minimum and maximum values\n",
        "random_10x10 = np.random.randint(0, 100, (10, 10))\n",
        "print(random_10x10)\n",
        "print(\"Minimum value:\", np.min(random_10x10))\n",
        "print(\"Maximum value:\", np.max(random_10x10))"
      ],
      "metadata": {
        "id": "rEWwl_weuq3B",
        "colab": {
          "base_uri": "https://localhost:8080/"
        },
        "outputId": "1bc11216-c039-4478-9e0d-3319932edfa5"
      },
      "execution_count": 12,
      "outputs": [
        {
          "output_type": "stream",
          "name": "stdout",
          "text": [
            "[[54 77 49 61 60 38 90 55  9 54]\n",
            " [47 52 29 73 31 66 50 62 15 83]\n",
            " [48 38 24 13 24 14 19 20  5 62]\n",
            " [72 87 93  8 74  3 24 64 39 65]\n",
            " [70 84 43  6 48 78  9 67 68  4]\n",
            " [19 26 50 34 84 44  1 43 25 55]\n",
            " [39 69 21 79 39 70  8 21 51 82]\n",
            " [67 35 80 17 14 24 30 71 13 62]\n",
            " [18 81 56 74 28 21 43 42 51 26]\n",
            " [29  1  5 55 47 88 28 91 78 80]]\n",
            "Minimum value: 1\n",
            "Maximum value: 93\n"
          ]
        }
      ]
    },
    {
      "cell_type": "code",
      "source": [
        "# Create a 3x3x3 array with random values\n",
        "random3 = np.random.random((3, 3, 3))\n",
        "print(random3)"
      ],
      "metadata": {
        "id": "KFy17KsvvSql",
        "colab": {
          "base_uri": "https://localhost:8080/"
        },
        "outputId": "0b001477-b34c-4871-9777-218945b38f12"
      },
      "execution_count": 13,
      "outputs": [
        {
          "output_type": "stream",
          "name": "stdout",
          "text": [
            "[[[0.51287491 0.58689184 0.70682038]\n",
            "  [0.62217944 0.77403818 0.23334841]\n",
            "  [0.12902261 0.43621465 0.28903739]]\n",
            "\n",
            " [[0.43084977 0.70401558 0.92660588]\n",
            "  [0.42105304 0.55744122 0.44616483]\n",
            "  [0.45751455 0.38982707 0.18290525]]\n",
            "\n",
            " [[0.74117303 0.06730122 0.5885356 ]\n",
            "  [0.19751412 0.7563722  0.66028906]\n",
            "  [0.7857272  0.24972978 0.30430157]]]\n"
          ]
        }
      ]
    },
    {
      "cell_type": "code",
      "source": [
        "# Replace all odd numbers in arr with -1\n",
        "# your code here\n",
        "arr[arr % 2 != 0] = -1\n",
        "print(arr)"
      ],
      "metadata": {
        "id": "X7ol3alqmbNa",
        "colab": {
          "base_uri": "https://localhost:8080/"
        },
        "outputId": "32a0a944-9778-40bc-b028-d0b4d2e5b2f7"
      },
      "execution_count": 14,
      "outputs": [
        {
          "output_type": "stream",
          "name": "stdout",
          "text": [
            "[[ True  True  True]\n",
            " [ True  True  True]\n",
            " [ True  True  True]]\n"
          ]
        }
      ]
    },
    {
      "cell_type": "code",
      "source": [
        "# Create an array of type float\n",
        "float_arr = np.array([1.0, 2.5, 3.7], dtype=float)\n",
        "print(float_arr)"
      ],
      "metadata": {
        "id": "GwdXYn9HqYTL",
        "colab": {
          "base_uri": "https://localhost:8080/"
        },
        "outputId": "c7289a48-0ec9-4069-fc66-d5ba8f350d81"
      },
      "execution_count": 15,
      "outputs": [
        {
          "output_type": "stream",
          "name": "stdout",
          "text": [
            "[1.  2.5 3.7]\n"
          ]
        }
      ]
    },
    {
      "cell_type": "code",
      "source": [
        "# Convert a 1D array to a 2D array with 2 rows\n",
        "# your code here\n",
        "arr_1d = np.arange(6)\n",
        "arr_2d = arr_1d.reshape(2, -1)\n",
        "print(arr_2d)"
      ],
      "metadata": {
        "id": "LvcL1lUYoPjN",
        "colab": {
          "base_uri": "https://localhost:8080/"
        },
        "outputId": "a7c3fafc-61b0-4255-f9cf-7e2b95258a71"
      },
      "execution_count": 16,
      "outputs": [
        {
          "output_type": "stream",
          "name": "stdout",
          "text": [
            "[[0 1 2]\n",
            " [3 4 5]]\n"
          ]
        }
      ]
    },
    {
      "cell_type": "code",
      "source": [
        "# How to find common values between two arrays?\n",
        "\n",
        "# Z1 = np.random.randint(0,10,10)\n",
        "# Z2 = np.random.randint(0,10,10)\n",
        "Z1 = np.random.randint(0,10,10)\n",
        "Z2 = np.random.randint(0, 10, 10)\n",
        "print (Z1, Z2)\n",
        "common_values = np.intersect1d(Z1, Z2)\n",
        "print(common_values)"
      ],
      "metadata": {
        "id": "VbzMDKQvv0DX",
        "colab": {
          "base_uri": "https://localhost:8080/"
        },
        "outputId": "61e6aaed-217e-4c05-a6ce-b498a712647b"
      },
      "execution_count": 17,
      "outputs": [
        {
          "output_type": "stream",
          "name": "stdout",
          "text": [
            "[8 8 4 4 9 6 1 1 3 5] [0 1 5 7 3 8 0 1 4 8]\n",
            "[1 3 4 5 8]\n"
          ]
        }
      ]
    },
    {
      "cell_type": "code",
      "source": [
        "#  Consider two random array A and B, check if they are equal\n",
        "\n",
        "\n",
        "# A = np.random.randint(0,2,5)\n",
        "# B = np.random.randint(0,2,5)\n",
        "A = np.random.randint(0, 2, 5)\n",
        "B = np.random.randint(0, 2, 5)\n",
        "print (A, B)\n",
        "are_equal = np.array_equal(A, B)\n",
        "print(are_equal)"
      ],
      "metadata": {
        "id": "RWWspnDAwWGV",
        "colab": {
          "base_uri": "https://localhost:8080/"
        },
        "outputId": "5198e4b8-77e8-400b-dc3b-e082aa57cb49"
      },
      "execution_count": 18,
      "outputs": [
        {
          "output_type": "stream",
          "name": "stdout",
          "text": [
            "[1 1 1 1 1] [0 1 1 1 1]\n",
            "False\n"
          ]
        }
      ]
    },
    {
      "cell_type": "code",
      "source": [
        "# Stack arrays a and b vertically\n",
        "# your code here\n",
        "stacked_arrays = np.vstack((A, B))\n",
        "print(stacked_arrays)"
      ],
      "metadata": {
        "id": "SW3KvPXhoeie",
        "colab": {
          "base_uri": "https://localhost:8080/"
        },
        "outputId": "68b074e5-3762-47d3-bc53-3fba847c41ce"
      },
      "execution_count": 19,
      "outputs": [
        {
          "output_type": "stream",
          "name": "stdout",
          "text": [
            "[[1 1 1 1 1]\n",
            " [0 1 1 1 1]]\n"
          ]
        }
      ]
    },
    {
      "cell_type": "code",
      "source": [
        "# Stack the arrays a and b horizontally.\n",
        "# your code here\n",
        "stacked_arrays = np.hstack((A, B))\n",
        "print(stacked_arrays)"
      ],
      "metadata": {
        "id": "6wVOpIT9omwe",
        "colab": {
          "base_uri": "https://localhost:8080/"
        },
        "outputId": "3a2c1883-ba39-4fa3-90a2-67a78943b150"
      },
      "execution_count": 20,
      "outputs": [
        {
          "output_type": "stream",
          "name": "stdout",
          "text": [
            "[1 1 1 1 1 0 1 1 1 1]\n"
          ]
        }
      ]
    },
    {
      "cell_type": "code",
      "source": [
        "# Get all items between 5 and 10 from array tmp.\n",
        "# your code here\n",
        "tmp = np.array([1, 6, 11, 7, 9, 3, 14])\n",
        "selected_items = tmp[(tmp >= 5) & (tmp <= 10)]\n",
        "print(selected_items)"
      ],
      "metadata": {
        "id": "L_7vMkGOo0gX",
        "colab": {
          "base_uri": "https://localhost:8080/"
        },
        "outputId": "714ce49a-b660-4815-d2f1-4e8594d3ccf6"
      },
      "execution_count": 21,
      "outputs": [
        {
          "output_type": "stream",
          "name": "stdout",
          "text": [
            "[6 7 9]\n"
          ]
        }
      ]
    },
    {
      "cell_type": "code",
      "source": [
        "# How to make a python function that handles scalars to work on numpy arrays?\n",
        "# Hint\n",
        "# Desired Output:\n",
        "# a = np.array([5, 7, 9, 8, 6, 4, 5])\n",
        "# b = np.array([6, 3, 4, 8, 9, 7, 1])\n",
        "# pair_max(a, b)\n",
        "# #> array([ 6.,  7.,  9.,  8.,  9.,  7.,  5.])\n",
        "\n",
        "\n",
        "# your code here\n",
        "def pair_max(a, b):\n",
        "    return np.maximum(a, b)\n",
        "\n",
        "a = np.array([5, 7, 9, 8, 6, 4, 5])\n",
        "b = np.array([6, 3, 4, 8, 9, 7, 1])\n",
        "result = pair_max(a, b)\n",
        "print(result)"
      ],
      "metadata": {
        "colab": {
          "base_uri": "https://localhost:8080/"
        },
        "id": "FVZz6ZY0p9ya",
        "outputId": "ae85b215-e9cd-4d4e-8305-85b7181996d9"
      },
      "execution_count": 22,
      "outputs": [
        {
          "output_type": "stream",
          "name": "stdout",
          "text": [
            "[6 7 9 8 9 7 5]\n"
          ]
        }
      ]
    },
    {
      "cell_type": "code",
      "source": [
        "# Swap columns 1 and 2 in the array arr.\n",
        "# Hint\n",
        "# Desired Output:\n",
        "# [[0 2 1]\n",
        "#  [3 5 4]\n",
        "#  [6 8 7]]\n",
        "arr = np.array([[0, 1, 2], [3, 4, 5], [6, 7, 8]])\n",
        "arr[:, [1, 2]] = arr[:, [2, 1]]\n",
        "print(arr)\n"
      ],
      "metadata": {
        "colab": {
          "base_uri": "https://localhost:8080/"
        },
        "outputId": "17b21bf5-18cf-4f43-9432-42cdb47ac140",
        "id": "8vIzM5e8ql6i"
      },
      "execution_count": 23,
      "outputs": [
        {
          "output_type": "stream",
          "name": "stdout",
          "text": [
            "[[0 2 1]\n",
            " [3 5 4]\n",
            " [6 8 7]]\n"
          ]
        }
      ]
    },
    {
      "cell_type": "code",
      "source": [
        "# Create a 2D array of shape 5x3 to contain random decimal numbers between 5 and 10.\n",
        "# Hint\n",
        "# The desired Output should be like the following one:\n",
        "#  [[ 8.50061025  9.10531502  6.85867783]\n",
        "#   [ 9.76262069  9.87717411  7.13466701]\n",
        "#   [ 7.48966403  8.33409158  6.16808631]\n",
        "#   [ 7.75010551  9.94535696  5.27373226]\n",
        "#   [ 8.0850361   5.56165518  7.31244004]]\n",
        "\n",
        "random_decimal_5_10 = np.random.uniform(5, 10, (5, 3))\n",
        "print(random_decimal_5_10)"
      ],
      "metadata": {
        "id": "FOXX5b17rY7E",
        "colab": {
          "base_uri": "https://localhost:8080/"
        },
        "outputId": "cffc7a4c-610a-46eb-ecac-52f937da9f74"
      },
      "execution_count": 24,
      "outputs": [
        {
          "output_type": "stream",
          "name": "stdout",
          "text": [
            "[[9.5535905  5.85740105 5.54453574]\n",
            " [5.0749996  9.37401207 7.53709345]\n",
            " [8.83748767 6.26634568 9.11800437]\n",
            " [5.73507837 5.2793283  7.7000172 ]\n",
            " [8.27682269 7.2768376  8.35099718]]\n"
          ]
        }
      ]
    }
  ]
}