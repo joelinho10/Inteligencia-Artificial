{
  "nbformat": 4,
  "nbformat_minor": 0,
  "metadata": {
    "colab": {
      "provenance": [],
      "include_colab_link": true
    },
    "kernelspec": {
      "name": "python3",
      "display_name": "Python 3"
    },
    "language_info": {
      "name": "python"
    }
  },
  "cells": [
    {
      "cell_type": "markdown",
      "metadata": {
        "id": "view-in-github",
        "colab_type": "text"
      },
      "source": [
        "<a href=\"https://colab.research.google.com/github/joelinho10/Inteligencia-Artificial/blob/main/NumPy_Exercises_for_Data_Analysis.ipynb\" target=\"_parent\"><img src=\"https://colab.research.google.com/assets/colab-badge.svg\" alt=\"Open In Colab\"/></a>"
      ]
    },
    {
      "cell_type": "markdown",
      "source": [
        "NumPy Exercises for Data Analysis"
      ],
      "metadata": {
        "id": "hSsi2_-klame"
      }
    },
    {
      "cell_type": "code",
      "source": [
        "# Import numpy as np and see the version\n",
        "import numpy as np\n",
        "print(np._version_)\n",
        "# your code here\n",
        "pass"
      ],
      "metadata": {
        "id": "kuK4TNepldem"
      },
      "execution_count": null,
      "outputs": []
    },
    {
      "cell_type": "code",
      "source": [
        "# Create a 1D array of numbers from 0 to 9\n",
        "# your code here\n",
        "pass"
      ],
      "metadata": {
        "id": "hbYX-oMBlvS-"
      },
      "execution_count": null,
      "outputs": []
    },
    {
      "cell_type": "code",
      "source": [
        "# Create random vector of size 10 and replace the maximum value by 0\n",
        "pass"
      ],
      "metadata": {
        "id": "HfsNmdvrwqsO"
      },
      "execution_count": null,
      "outputs": []
    },
    {
      "cell_type": "code",
      "source": [
        "# Print the number 8 from the array below:\n",
        "# arr = np.array([[1,2,3,4,5], [6,7,8,9,10]])\n",
        "pass"
      ],
      "metadata": {
        "id": "a9T-W3uUoqcE"
      },
      "execution_count": null,
      "outputs": []
    },
    {
      "cell_type": "code",
      "source": [
        "# Print the numbers [3, 4, 5] from the array below:\n",
        "# arr = np.array([1,2,3,4,5,6,7])\n",
        "pass"
      ],
      "metadata": {
        "id": "PqvPijs8o2ub"
      },
      "execution_count": null,
      "outputs": []
    },
    {
      "cell_type": "code",
      "source": [
        "# Print the last 4 numbers from the array below:\n",
        "# arr = np.array([1,2,3,4,5,6,7])\n",
        "pass"
      ],
      "metadata": {
        "id": "H5iUCizHpk0L"
      },
      "execution_count": null,
      "outputs": []
    },
    {
      "cell_type": "code",
      "source": [
        "# Create a 3×3 numpy array of all True’s\n",
        "# your code here\n",
        "pass"
      ],
      "metadata": {
        "id": "C9nBztXhl9NA"
      },
      "execution_count": null,
      "outputs": []
    },
    {
      "cell_type": "code",
      "source": [
        "# Extract all odd numbers from arr\n",
        "# your code here\n",
        "pass"
      ],
      "metadata": {
        "id": "W18lqbBwmIhw"
      },
      "execution_count": null,
      "outputs": []
    },
    {
      "cell_type": "code",
      "source": [
        "# Create a vector with values ranging from 10 to 49 (★☆☆)\n",
        "pass\n"
      ],
      "metadata": {
        "id": "hA9iXCAwr55v"
      },
      "execution_count": null,
      "outputs": []
    },
    {
      "cell_type": "code",
      "source": [
        "# Reverse a vector (first element becomes last)\n",
        "pass"
      ],
      "metadata": {
        "id": "R-_IjeHyr83q"
      },
      "execution_count": null,
      "outputs": []
    },
    {
      "cell_type": "code",
      "source": [
        "#  Create a 10x10 array with random integer values and find the minimum and maximum values\n",
        "pass"
      ],
      "metadata": {
        "id": "rEWwl_weuq3B"
      },
      "execution_count": null,
      "outputs": []
    },
    {
      "cell_type": "code",
      "source": [
        "# Create a 3x3x3 array with random values\n",
        "pass"
      ],
      "metadata": {
        "id": "KFy17KsvvSql"
      },
      "execution_count": null,
      "outputs": []
    },
    {
      "cell_type": "code",
      "source": [
        "# Replace all odd numbers in arr with -1\n",
        "# your code here\n",
        "pass"
      ],
      "metadata": {
        "id": "X7ol3alqmbNa"
      },
      "execution_count": null,
      "outputs": []
    },
    {
      "cell_type": "code",
      "source": [
        "# Create an array of type float\n",
        "pass"
      ],
      "metadata": {
        "id": "GwdXYn9HqYTL"
      },
      "execution_count": null,
      "outputs": []
    },
    {
      "cell_type": "code",
      "source": [
        "# Convert a 1D array to a 2D array with 2 rows\n",
        "# your code here\n",
        "pass"
      ],
      "metadata": {
        "id": "LvcL1lUYoPjN"
      },
      "execution_count": null,
      "outputs": []
    },
    {
      "cell_type": "code",
      "source": [
        "# How to find common values between two arrays?\n",
        "\n",
        "# Z1 = np.random.randint(0,10,10)\n",
        "# Z2 = np.random.randint(0,10,10)\n",
        "pass"
      ],
      "metadata": {
        "id": "VbzMDKQvv0DX"
      },
      "execution_count": null,
      "outputs": []
    },
    {
      "cell_type": "code",
      "source": [
        "#  Consider two random array A and B, check if they are equal\n",
        "\n",
        "\n",
        "# A = np.random.randint(0,2,5)\n",
        "# B = np.random.randint(0,2,5)\n",
        "\n",
        "pass"
      ],
      "metadata": {
        "id": "RWWspnDAwWGV"
      },
      "execution_count": null,
      "outputs": []
    },
    {
      "cell_type": "code",
      "source": [
        "# Stack arrays a and b vertically\n",
        "# your code here\n",
        "pass"
      ],
      "metadata": {
        "id": "SW3KvPXhoeie"
      },
      "execution_count": null,
      "outputs": []
    },
    {
      "cell_type": "code",
      "source": [
        "# Stack the arrays a and b horizontally.\n",
        "# your code here\n",
        "pass"
      ],
      "metadata": {
        "id": "6wVOpIT9omwe"
      },
      "execution_count": null,
      "outputs": []
    },
    {
      "cell_type": "code",
      "source": [
        "# Get all items between 5 and 10 from array tmp.\n",
        "# your code here\n",
        "import numpy as np\n",
        "tmp = np.arange(15)\n",
        "# pass"
      ],
      "metadata": {
        "id": "L_7vMkGOo0gX"
      },
      "execution_count": null,
      "outputs": []
    },
    {
      "cell_type": "code",
      "source": [
        "# How to make a python function that handles scalars to work on numpy arrays?\n",
        "# Hint\n",
        "# Desired Output:\n",
        "# a = np.array([5, 7, 9, 8, 6, 4, 5])\n",
        "# b = np.array([6, 3, 4, 8, 9, 7, 1])\n",
        "# pair_max(a, b)\n",
        "# #> array([ 6.,  7.,  9.,  8.,  9.,  7.,  5.])\n",
        "\n",
        "\n",
        "# your code here\n",
        "import numpy as np\n",
        "\n",
        "def maxx(x, y):\n",
        "    \"\"\"Get the maximum of two items\"\"\"\n",
        "    if x >= y:\n",
        "        return x\n",
        "    else:\n",
        "        return y\n",
        "\n",
        "maxx(1, 5)\n"
      ],
      "metadata": {
        "colab": {
          "base_uri": "https://localhost:8080/"
        },
        "id": "FVZz6ZY0p9ya",
        "outputId": "fa144712-5742-41a1-d3dc-0c3f1645a25e"
      },
      "execution_count": null,
      "outputs": [
        {
          "output_type": "execute_result",
          "data": {
            "text/plain": [
              "5"
            ]
          },
          "metadata": {},
          "execution_count": 30
        }
      ]
    },
    {
      "cell_type": "code",
      "source": [
        "# Swap columns 1 and 2 in the array arr.\n",
        "# Hint\n",
        "# Desired Output:\n",
        "# [[0 2 1]\n",
        "#  [3 5 4]\n",
        "#  [6 8 7]]\n",
        "\n",
        "\n",
        "arr = np.arange(9).reshape(3,3)\n",
        "print(arr)\n",
        "# your code here\n",
        "pass\n"
      ],
      "metadata": {
        "colab": {
          "base_uri": "https://localhost:8080/"
        },
        "outputId": "1ec17454-2c78-4355-98d8-241a84a4ff76",
        "id": "8vIzM5e8ql6i"
      },
      "execution_count": null,
      "outputs": [
        {
          "output_type": "stream",
          "name": "stdout",
          "text": [
            "[[0 1 2]\n",
            " [3 4 5]\n",
            " [6 7 8]]\n"
          ]
        }
      ]
    },
    {
      "cell_type": "code",
      "source": [
        "# Create a 2D array of shape 5x3 to contain random decimal numbers between 5 and 10.\n",
        "# Hint\n",
        "# The desired Output should be like the following one:\n",
        "#  [[ 8.50061025  9.10531502  6.85867783]\n",
        "#   [ 9.76262069  9.87717411  7.13466701]\n",
        "#   [ 7.48966403  8.33409158  6.16808631]\n",
        "#   [ 7.75010551  9.94535696  5.27373226]\n",
        "#   [ 8.0850361   5.56165518  7.31244004]]"
      ],
      "metadata": {
        "id": "FOXX5b17rY7E"
      },
      "execution_count": null,
      "outputs": []
    }
  ]
}