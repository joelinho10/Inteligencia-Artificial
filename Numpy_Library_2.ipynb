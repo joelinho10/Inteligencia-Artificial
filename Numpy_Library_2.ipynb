{
  "nbformat": 4,
  "nbformat_minor": 0,
  "metadata": {
    "colab": {
      "provenance": [],
      "include_colab_link": true
    },
    "kernelspec": {
      "name": "python3",
      "display_name": "Python 3"
    },
    "language_info": {
      "name": "python"
    }
  },
  "cells": [
    {
      "cell_type": "markdown",
      "metadata": {
        "id": "view-in-github",
        "colab_type": "text"
      },
      "source": [
        "<a href=\"https://colab.research.google.com/github/joelinho10/Inteligencia-Artificial/blob/main/Numpy_Library_2.ipynb\" target=\"_parent\"><img src=\"https://colab.research.google.com/assets/colab-badge.svg\" alt=\"Open In Colab\"/></a>"
      ]
    },
    {
      "cell_type": "code",
      "execution_count": 16,
      "metadata": {
        "colab": {
          "base_uri": "https://localhost:8080/"
        },
        "id": "AXDnVLNq560G",
        "outputId": "c5d05207-c204-45f1-f266-164da9845c18"
      },
      "outputs": [
        {
          "output_type": "stream",
          "name": "stdout",
          "text": [
            "Matriz 1\n",
            "[[ 8  4  1 10]\n",
            " [ 2  2  3  4]\n",
            " [ 2  7  3  2]]\n",
            "(3, 4)\n",
            "Matriz 2\n",
            "[[ 8  9  9  3]\n",
            " [ 3 10  7  4]\n",
            " [ 5  5  6  6]]\n",
            "(3, 4)\n",
            "Suma de matrices\n",
            "[[16 13 10 13]\n",
            " [ 5 12 10  8]\n",
            " [ 7 12  9  8]]\n",
            "Resta de matrices\n",
            "[[ 0 -5 -8  7]\n",
            " [-1 -8 -4  0]\n",
            " [-3  2 -3 -4]]\n",
            "Multiplicacion de matrices\n",
            "[[64 36  9 30]\n",
            " [ 6 20 21 16]\n",
            " [10 35 18 12]]\n"
          ]
        }
      ],
      "source": [
        "from numpy.random import MT19937\n",
        "import numpy as np\n",
        "print (\"Matriz 1\")\n",
        "m1 = np.random.randint(1,11,[3,4])\n",
        "print (m1)\n",
        "print (m1.shape)\n",
        "print (\"Matriz 2\")\n",
        "m2 = np.random.randint(1,11,[3,4])\n",
        "print (m2)\n",
        "print (m2.shape)\n",
        "print (\"Suma de matrices\")\n",
        "print (m1 + m2)\n",
        "print (\"Resta de matrices\")\n",
        "print (m1 - m2)\n",
        "print (\"Multiplicacion de matrices\")\n",
        "print (m1 * m2)"
      ]
    },
    {
      "cell_type": "code",
      "source": [
        "print (\"Suma de matrices\")\n",
        "print (np.add(m1,m2))\n",
        "print (\"Resta de matrices\")\n",
        "print (np.subtract(m1,m2))\n",
        "print (\"Multiplicacion de matrices\")\n",
        "print (np.multiply(m1,m2))\n",
        "print (\"Division de matrices\")\n",
        "print (np.divide(m1,m2))"
      ],
      "metadata": {
        "colab": {
          "base_uri": "https://localhost:8080/"
        },
        "id": "Hyg8Ftqk8CcX",
        "outputId": "ecb37557-31e7-4ed8-f34d-1474033835ec"
      },
      "execution_count": 17,
      "outputs": [
        {
          "output_type": "stream",
          "name": "stdout",
          "text": [
            "Suma de matrices\n",
            "[[16 13 10 13]\n",
            " [ 5 12 10  8]\n",
            " [ 7 12  9  8]]\n",
            "Resta de matrices\n",
            "[[ 0 -5 -8  7]\n",
            " [-1 -8 -4  0]\n",
            " [-3  2 -3 -4]]\n",
            "Multiplicacion de matrices\n",
            "[[64 36  9 30]\n",
            " [ 6 20 21 16]\n",
            " [10 35 18 12]]\n",
            "Division de matrices\n",
            "[[1.         0.44444444 0.11111111 3.33333333]\n",
            " [0.66666667 0.2        0.42857143 1.        ]\n",
            " [0.4        1.4        0.5        0.33333333]]\n"
          ]
        }
      ]
    },
    {
      "cell_type": "code",
      "source": [
        "print (\"Matriz 1\")\n",
        "m3 = np.random.randint(1,11,[3,4])\n",
        "print (m3)\n",
        "print (m3.shape)\n",
        "print (\"Matriz 2\")\n",
        "m4 = np.random.randint(1,11,[4,3])\n",
        "print (m4)\n",
        "print (m4.shape)\n",
        "\n",
        "print (np.dot(m3,m4))"
      ],
      "metadata": {
        "colab": {
          "base_uri": "https://localhost:8080/"
        },
        "id": "6H9AREFK9EYn",
        "outputId": "54d04351-9c0b-425b-dde8-5fa199034003"
      },
      "execution_count": 18,
      "outputs": [
        {
          "output_type": "stream",
          "name": "stdout",
          "text": [
            "Matriz 1\n",
            "[[8 3 4 8]\n",
            " [4 8 6 5]\n",
            " [1 1 5 5]]\n",
            "(3, 4)\n",
            "Matriz 2\n",
            "[[ 1  3  2]\n",
            " [ 4  4  6]\n",
            " [ 8  1  6]\n",
            " [10  5 10]]\n",
            "(4, 3)\n",
            "[[132  80 138]\n",
            " [134  75 142]\n",
            " [ 95  37  88]]\n"
          ]
        }
      ]
    },
    {
      "cell_type": "code",
      "source": [
        "print (\"Matriz 1\")\n",
        "m5 = np.random.randint(1,11,[2,2])\n",
        "print (m5.shape)\n",
        "print (type (m5))\n",
        "print (m5)\n",
        "print (m5.T)"
      ],
      "metadata": {
        "colab": {
          "base_uri": "https://localhost:8080/"
        },
        "id": "pvrMRwJE_ELL",
        "outputId": "62b2bf51-bbce-4aeb-eb04-28836b9bfe80"
      },
      "execution_count": 19,
      "outputs": [
        {
          "output_type": "stream",
          "name": "stdout",
          "text": [
            "Matriz 1\n",
            "(2, 2)\n",
            "<class 'numpy.ndarray'>\n",
            "[[3 1]\n",
            " [8 8]]\n",
            "[[3 8]\n",
            " [1 8]]\n"
          ]
        }
      ]
    },
    {
      "cell_type": "code",
      "source": [
        "print (\"Matriz 1\")\n",
        "m6 = np.random.randint(1,11,[4,3])\n",
        "m7 = np.array([1,0,2])\n",
        "print (m6.shape)\n",
        "print (m7.shape)\n",
        "m8 = np.empty_like(m6)\n",
        "print (m6)\n",
        "print (m7)\n",
        "print (m8.shape)\n",
        "print (m8)"
      ],
      "metadata": {
        "colab": {
          "base_uri": "https://localhost:8080/"
        },
        "id": "FcQop7dz_6rm",
        "outputId": "30041bc5-afab-434a-ddb2-f24feb302df8"
      },
      "execution_count": 20,
      "outputs": [
        {
          "output_type": "stream",
          "name": "stdout",
          "text": [
            "Matriz 1\n",
            "(4, 3)\n",
            "(3,)\n",
            "[[ 2  3  3]\n",
            " [ 7 10  1]\n",
            " [ 8  8  6]\n",
            " [ 9  9 10]]\n",
            "[1 0 2]\n",
            "(4, 3)\n",
            "[[ 1 10  3]\n",
            " [ 2 10 10]\n",
            " [ 7  7  2]\n",
            " [ 2  6 10]]\n"
          ]
        }
      ]
    },
    {
      "cell_type": "code",
      "source": [
        "for i in range(4):\n",
        "  m8[i,:]= m6[i,:]+m7\n",
        "print (m6)\n",
        "print (m7)\n",
        "print (m8)"
      ],
      "metadata": {
        "colab": {
          "base_uri": "https://localhost:8080/"
        },
        "id": "8FZZD99yBzlO",
        "outputId": "b0df88ca-3d79-47ce-9365-a638f28160c0"
      },
      "execution_count": 7,
      "outputs": [
        {
          "output_type": "stream",
          "name": "stdout",
          "text": [
            "[[ 3  8  9]\n",
            " [ 8  5  4]\n",
            " [ 9  9  8]\n",
            " [ 3 10 10]]\n",
            "[1 0 2]\n",
            "[[ 4  8 11]\n",
            " [ 9  5  6]\n",
            " [10  9 10]\n",
            " [ 4 10 12]]\n"
          ]
        }
      ]
    },
    {
      "cell_type": "code",
      "source": [
        "a = np.array([1,2,3])\n",
        "print (a)\n",
        "b = np.tile(a,(6,1))\n",
        "print (b)\n",
        "print (b.shape)"
      ],
      "metadata": {
        "colab": {
          "base_uri": "https://localhost:8080/"
        },
        "id": "ldF6daJNDRVO",
        "outputId": "4b72bf93-86e7-40d5-c9be-da65144c3cc3"
      },
      "execution_count": 8,
      "outputs": [
        {
          "output_type": "stream",
          "name": "stdout",
          "text": [
            "[1 2 3]\n",
            "[[1 2 3]\n",
            " [1 2 3]\n",
            " [1 2 3]\n",
            " [1 2 3]\n",
            " [1 2 3]\n",
            " [1 2 3]]\n",
            "(6, 3)\n"
          ]
        }
      ]
    },
    {
      "cell_type": "code",
      "source": [
        "m1 = np.random.randint(20,30,[6,6])\n",
        "print (m1)"
      ],
      "metadata": {
        "colab": {
          "base_uri": "https://localhost:8080/"
        },
        "id": "O0iFphrZFR8l",
        "outputId": "a8790574-2c7d-4584-df5e-48189b0dc8af"
      },
      "execution_count": 9,
      "outputs": [
        {
          "output_type": "stream",
          "name": "stdout",
          "text": [
            "[[23 22 24 22 23 22]\n",
            " [29 24 24 22 22 24]\n",
            " [25 27 24 24 22 22]\n",
            " [27 21 21 26 27 24]\n",
            " [21 20 23 25 24 21]\n",
            " [29 22 27 23 27 27]]\n"
          ]
        }
      ]
    },
    {
      "cell_type": "code",
      "source": [
        "print('Matriz A')\n",
        "A = np.array([1,2,3])\n",
        "\n",
        "print(A)\n",
        "\n",
        "print(' ')\n",
        "print('----------------------------------------------------------')\n",
        "print(' ')\n",
        "\n",
        "print('Matriz B')\n",
        "B = np.array([1,2,3])\n",
        "matriz = np.tile(B, (6, 1))\n",
        "print(matriz)\n",
        "\n",
        "print(' ')\n",
        "print('---------------------------------------------------------')\n",
        "print(' ')\n",
        "\n",
        "print('Matriz C')\n",
        "C = np.random.randint(0, 11, size=(6, 6))\n",
        "print(C)\n",
        "promedio = np.mean(C)\n",
        "print(' ')\n",
        "print('Promedio')\n",
        "print(promedio)\n",
        "\n",
        "print(' ')\n",
        "print('------------------------------------------------------------')\n",
        "print(' ')\n",
        "\n",
        "promedio1 = np.mean(C, axis=1)\n",
        "print(' ')\n",
        "print('Promedio por filas')\n",
        "print(promedio1)\n",
        "\n",
        "print(' ')\n",
        "print('-------------------------------------------------------------')\n",
        "print(' ')\n",
        "\n",
        "promedio2 = np.mean(C, axis=0)\n",
        "print(' ')\n",
        "print('Promedio por columnas')\n",
        "print(promedio2)"
      ],
      "metadata": {
        "colab": {
          "base_uri": "https://localhost:8080/"
        },
        "id": "WvLEejsXTNLY",
        "outputId": "145b70da-7843-4e39-d32f-e5d0e4691ef2"
      },
      "execution_count": 12,
      "outputs": [
        {
          "output_type": "stream",
          "name": "stdout",
          "text": [
            "Matriz A\n",
            "[1 2 3]\n",
            " \n",
            "----------------------------------------------------------\n",
            " \n",
            "Matriz B\n",
            "[[1 2 3]\n",
            " [1 2 3]\n",
            " [1 2 3]\n",
            " [1 2 3]\n",
            " [1 2 3]\n",
            " [1 2 3]]\n",
            " \n",
            "---------------------------------------------------------\n",
            " \n",
            "Matriz C\n",
            "[[ 7 10  3  9  1  6]\n",
            " [10  8  9  0  1  4]\n",
            " [ 6  5  8  5  7 10]\n",
            " [ 6  7  8 10  2  1]\n",
            " [ 8  1  0  9  5  4]\n",
            " [ 3  5  5  7  4  7]]\n",
            " \n",
            "Promedio\n",
            "5.583333333333333\n",
            " \n",
            "------------------------------------------------------------\n",
            " \n",
            " \n",
            "Promedio por filas\n",
            "[6.         5.33333333 6.83333333 5.66666667 4.5        5.16666667]\n",
            " \n",
            "-------------------------------------------------------------\n",
            " \n",
            " \n",
            "Promedio por columnas\n",
            "[6.66666667 6.         5.5        6.66666667 3.33333333 5.33333333]\n"
          ]
        }
      ]
    }
  ]
}