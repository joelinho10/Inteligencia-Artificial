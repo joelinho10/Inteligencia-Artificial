{
  "nbformat": 4,
  "nbformat_minor": 0,
  "metadata": {
    "colab": {
      "provenance": [],
      "include_colab_link": true
    },
    "kernelspec": {
      "name": "python3",
      "display_name": "Python 3"
    },
    "language_info": {
      "name": "python"
    }
  },
  "cells": [
    {
      "cell_type": "markdown",
      "metadata": {
        "id": "view-in-github",
        "colab_type": "text"
      },
      "source": [
        "<a href=\"https://colab.research.google.com/github/joelinho10/Inteligencia-Artificial/blob/main/Exercises%20about%20Python%20Basis.ipynb\" target=\"_parent\"><img src=\"https://colab.research.google.com/assets/colab-badge.svg\" alt=\"Open In Colab\"/></a>"
      ]
    },
    {
      "cell_type": "code",
      "execution_count": null,
      "metadata": {
        "colab": {
          "base_uri": "https://localhost:8080/"
        },
        "id": "ohrbQ4WRweIx",
        "outputId": "0d582169-8f59-4194-df63-4141a4f8ad44"
      },
      "outputs": [
        {
          "output_type": "stream",
          "name": "stdout",
          "text": [
            "Python 3.10.12\n"
          ]
        }
      ],
      "source": [
        "!python --version"
      ]
    },
    {
      "cell_type": "code",
      "source": [
        "myVariable_1=4\n",
        "myVariable_2=6\n",
        "print(myVariable_1+myVariable_2)\n",
        "print(myVariable_1-myVariable_2)\n",
        "print(myVariable_1/myVariable_2)\n",
        "print(myVariable_1*myVariable_2)"
      ],
      "metadata": {
        "colab": {
          "base_uri": "https://localhost:8080/"
        },
        "id": "UjwU1K6Q_17g",
        "outputId": "8befdbb4-329c-4758-ea37-457bf25e266d"
      },
      "execution_count": null,
      "outputs": [
        {
          "output_type": "stream",
          "name": "stdout",
          "text": [
            "10\n",
            "-2\n",
            "0.6666666666666666\n",
            "24\n"
          ]
        }
      ]
    },
    {
      "cell_type": "code",
      "source": [
        "aux_1=True\n",
        "aux_2=False\n",
        "print(aux_1 and aux_2)\n",
        "print(aux_1 or aux_2)\n",
        "print(not aux_2)"
      ],
      "metadata": {
        "colab": {
          "base_uri": "https://localhost:8080/"
        },
        "id": "F4P-0YPqBzIP",
        "outputId": "63d84bcd-6609-42a0-f071-0dd59643d463"
      },
      "execution_count": null,
      "outputs": [
        {
          "output_type": "stream",
          "name": "stdout",
          "text": [
            "False\n",
            "True\n",
            "True\n"
          ]
        }
      ]
    },
    {
      "cell_type": "code",
      "source": [
        "myName='Erik Olmedo'\n",
        "print (myName)"
      ],
      "metadata": {
        "colab": {
          "base_uri": "https://localhost:8080/"
        },
        "id": "os-Wjgw-BbBl",
        "outputId": "c5ed502a-52c0-459e-c298-e7a665f34f72"
      },
      "execution_count": null,
      "outputs": [
        {
          "output_type": "stream",
          "name": "stdout",
          "text": [
            "Melany Molina\n"
          ]
        }
      ]
    },
    {
      "cell_type": "code",
      "source": [
        "listaescolar=['notebook','pen','eraser','pencil']\n",
        "print(listaescolar)\n",
        "\n",
        "listaescolar.append('computer')\n",
        "print(listaescolar)\n",
        "\n",
        "#print(listaescolar[3])\n",
        "\n",
        "#listaescolar.pop(3)\n",
        "del listaescolar[3]\n",
        "\n",
        "print(listaescolar)"
      ],
      "metadata": {
        "colab": {
          "base_uri": "https://localhost:8080/"
        },
        "id": "1MufOkgEBe_1",
        "outputId": "d48da340-bf08-45c3-d26b-12829e09f66d"
      },
      "execution_count": null,
      "outputs": [
        {
          "output_type": "stream",
          "name": "stdout",
          "text": [
            "['notebook', 'pen', 'eraser', 'pencil']\n",
            "['notebook', 'pen', 'eraser', 'pencil', 'computer']\n",
            "['notebook', 'pen', 'eraser', 'computer']\n"
          ]
        }
      ]
    },
    {
      "cell_type": "code",
      "source": [
        "mylist=list(range(15))\n",
        "print(mylist)\n",
        "print(mylist[5:11])\n",
        "print(mylist[-1])"
      ],
      "metadata": {
        "colab": {
          "base_uri": "https://localhost:8080/"
        },
        "id": "Fy4KKViwBhPn",
        "outputId": "29cdb0b8-1e64-4449-d78f-a63fe7694de5"
      },
      "execution_count": null,
      "outputs": [
        {
          "output_type": "stream",
          "name": "stdout",
          "text": [
            "[0, 1, 2, 3, 4, 5, 6, 7, 8, 9, 10, 11, 12, 13, 14]\n",
            "[5, 6, 7, 8, 9, 10]\n",
            "14\n"
          ]
        }
      ]
    }
  ]
}