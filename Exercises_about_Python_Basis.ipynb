{
  "nbformat": 4,
  "nbformat_minor": 0,
  "metadata": {
    "colab": {
      "provenance": [],
      "include_colab_link": true
    },
    "kernelspec": {
      "name": "python3",
      "display_name": "Python 3"
    },
    "language_info": {
      "name": "python"
    }
  },
  "cells": [
    {
      "cell_type": "markdown",
      "metadata": {
        "id": "view-in-github",
        "colab_type": "text"
      },
      "source": [
        "<a href=\"https://colab.research.google.com/github/joelinho10/Inteligencia-Artificial/blob/main/Exercises_about_Python_Basis.ipynb\" target=\"_parent\"><img src=\"https://colab.research.google.com/assets/colab-badge.svg\" alt=\"Open In Colab\"/></a>"
      ]
    },
    {
      "cell_type": "code",
      "execution_count": 1,
      "metadata": {
        "colab": {
          "base_uri": "https://localhost:8080/"
        },
        "id": "ohrbQ4WRweIx",
        "outputId": "5a3ee88c-67be-485f-ebd2-232b26653c03"
      },
      "outputs": [
        {
          "output_type": "stream",
          "name": "stdout",
          "text": [
            "Python 3.10.12\n"
          ]
        }
      ],
      "source": [
        "!python --version"
      ]
    },
    {
      "cell_type": "code",
      "source": [
        "myVariable_1=4\n",
        "myVariable_2=6\n",
        "print(myVariable_1+myVariable_2)\n",
        "print(myVariable_1-myVariable_2)\n",
        "print(myVariable_1/myVariable_2)\n",
        "print(myVariable_1*myVariable_2)"
      ],
      "metadata": {
        "colab": {
          "base_uri": "https://localhost:8080/"
        },
        "id": "UjwU1K6Q_17g",
        "outputId": "bfe743d0-e132-411a-8205-58f67a20c498"
      },
      "execution_count": 2,
      "outputs": [
        {
          "output_type": "stream",
          "name": "stdout",
          "text": [
            "10\n",
            "-2\n",
            "0.6666666666666666\n",
            "24\n"
          ]
        }
      ]
    },
    {
      "cell_type": "code",
      "source": [
        "aux_1=True\n",
        "aux_2=False\n",
        "print(aux_1 and aux_2)\n",
        "print(aux_1 or aux_2)\n",
        "print(not aux_2)"
      ],
      "metadata": {
        "colab": {
          "base_uri": "https://localhost:8080/"
        },
        "id": "F4P-0YPqBzIP",
        "outputId": "b3c6d6ad-cb4e-4d6e-fcf5-c07252a10174"
      },
      "execution_count": 3,
      "outputs": [
        {
          "output_type": "stream",
          "name": "stdout",
          "text": [
            "False\n",
            "True\n",
            "True\n"
          ]
        }
      ]
    },
    {
      "cell_type": "code",
      "source": [
        "myName='Erik Olmedo'\n",
        "print (myName)"
      ],
      "metadata": {
        "colab": {
          "base_uri": "https://localhost:8080/"
        },
        "id": "os-Wjgw-BbBl",
        "outputId": "f292a7f1-4215-481d-bc15-f99c763ba6d7"
      },
      "execution_count": 4,
      "outputs": [
        {
          "output_type": "stream",
          "name": "stdout",
          "text": [
            "Erik Olmedo\n"
          ]
        }
      ]
    },
    {
      "cell_type": "code",
      "source": [
        "listaescolar=['notebook','pen','eraser','pencil']\n",
        "print(listaescolar)\n",
        "\n",
        "listaescolar.append('computer')\n",
        "print(listaescolar)\n",
        "\n",
        "#print(listaescolar[3])\n",
        "\n",
        "#listaescolar.pop(3)\n",
        "del listaescolar[3]\n",
        "\n",
        "print(listaescolar)"
      ],
      "metadata": {
        "colab": {
          "base_uri": "https://localhost:8080/"
        },
        "id": "1MufOkgEBe_1",
        "outputId": "19e8146c-818f-457b-e2ca-e7e7483ac569"
      },
      "execution_count": 5,
      "outputs": [
        {
          "output_type": "stream",
          "name": "stdout",
          "text": [
            "['notebook', 'pen', 'eraser', 'pencil']\n",
            "['notebook', 'pen', 'eraser', 'pencil', 'computer']\n",
            "['notebook', 'pen', 'eraser', 'computer']\n"
          ]
        }
      ]
    },
    {
      "cell_type": "code",
      "source": [
        "mylist=list(range(15))\n",
        "print(mylist)\n",
        "print(mylist[5:11])\n",
        "print(mylist[-1])"
      ],
      "metadata": {
        "colab": {
          "base_uri": "https://localhost:8080/"
        },
        "id": "Fy4KKViwBhPn",
        "outputId": "670e8401-b0d3-494f-9516-140962956594"
      },
      "execution_count": 6,
      "outputs": [
        {
          "output_type": "stream",
          "name": "stdout",
          "text": [
            "[0, 1, 2, 3, 4, 5, 6, 7, 8, 9, 10, 11, 12, 13, 14]\n",
            "[5, 6, 7, 8, 9, 10]\n",
            "14\n"
          ]
        }
      ]
    }
  ]
}