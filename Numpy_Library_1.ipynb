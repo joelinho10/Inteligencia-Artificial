{
  "nbformat": 4,
  "nbformat_minor": 0,
  "metadata": {
    "colab": {
      "provenance": [],
      "include_colab_link": true
    },
    "kernelspec": {
      "name": "python3",
      "display_name": "Python 3"
    },
    "language_info": {
      "name": "python"
    }
  },
  "cells": [
    {
      "cell_type": "markdown",
      "metadata": {
        "id": "view-in-github",
        "colab_type": "text"
      },
      "source": [
        "<a href=\"https://colab.research.google.com/github/joelinho10/Inteligencia-Artificial/blob/main/Numpy_Library_1.ipynb\" target=\"_parent\"><img src=\"https://colab.research.google.com/assets/colab-badge.svg\" alt=\"Open In Colab\"/></a>"
      ]
    },
    {
      "cell_type": "code",
      "execution_count": 1,
      "metadata": {
        "colab": {
          "base_uri": "https://localhost:8080/"
        },
        "id": "qnZBF48JHKUO",
        "outputId": "1a9fb5d2-bca0-45b8-c279-915e3cf7951a"
      },
      "outputs": [
        {
          "output_type": "stream",
          "name": "stdout",
          "text": [
            "[1 2 4 5]\n",
            "(4,)\n",
            "(2, 4)\n",
            "[[1 2 3 4]\n",
            " [1 2 3 4]]\n",
            "<class 'numpy.ndarray'>\n",
            "[[0. 0. 0. 0.]\n",
            " [0. 0. 0. 0.]\n",
            " [0. 0. 0. 0.]\n",
            " [0. 0. 0. 0.]]\n",
            "[[5 5 5 5]\n",
            " [5 5 5 5]\n",
            " [5 5 5 5]\n",
            " [5 5 5 5]]\n",
            "[[1. 0. 0. 0.]\n",
            " [0. 1. 0. 0.]\n",
            " [0. 0. 1. 0.]\n",
            " [0. 0. 0. 1.]]\n",
            "[[1. 1. 1. 1.]\n",
            " [1. 1. 1. 1.]\n",
            " [1. 1. 1. 1.]\n",
            " [1. 1. 1. 1.]]\n",
            "(4, 4)\n",
            "[[8.72353022 8.48055555 5.07888002]\n",
            " [9.23173535 0.56365013 3.07645065]\n",
            " [2.93583318 4.38124842 1.0202041 ]]\n"
          ]
        }
      ],
      "source": [
        "import numpy as np\n",
        "\n",
        "aux = np.array([1,2,4,5])\n",
        "print(aux)\n",
        "print(aux.shape)\n",
        "aux = np.array([[1,2,3,4],[1,2,3,4]])\n",
        "print(aux.shape)\n",
        "print(aux)\n",
        "print(type(aux))\n",
        "tmp = np.zeros([4,4])\n",
        "print (tmp)\n",
        "tmp = np.full([4,4],5)\n",
        "print (tmp)\n",
        "tmp = np.eye(4,4)\n",
        "print (tmp)\n",
        "tmp = np.ones([4,4])\n",
        "print (tmp)\n",
        "print (tmp.shape)\n",
        "tmp = 10*np.random.random([3,3])\n",
        "print (tmp)"
      ]
    },
    {
      "cell_type": "code",
      "source": [
        "tmp = 10*np.random.random([3,3])\n",
        "print (tmp)"
      ],
      "metadata": {
        "colab": {
          "base_uri": "https://localhost:8080/"
        },
        "id": "IVee84OESZEn",
        "outputId": "895f8d8a-9d02-413f-fb47-729f8dfcba36"
      },
      "execution_count": 2,
      "outputs": [
        {
          "output_type": "stream",
          "name": "stdout",
          "text": [
            "[[2.4762185  0.56987862 2.07195311]\n",
            " [5.37325717 6.92609307 5.61517262]\n",
            " [3.76360205 0.2113081  9.51459267]]\n"
          ]
        }
      ]
    },
    {
      "cell_type": "code",
      "source": [
        "print (tmp[:2,:2])"
      ],
      "metadata": {
        "colab": {
          "base_uri": "https://localhost:8080/"
        },
        "id": "TYq2UsNQSdJf",
        "outputId": "f690e89d-fcf7-4e4e-ea82-2d26533b8822"
      },
      "execution_count": 3,
      "outputs": [
        {
          "output_type": "stream",
          "name": "stdout",
          "text": [
            "[[2.4762185  0.56987862]\n",
            " [5.37325717 6.92609307]]\n"
          ]
        }
      ]
    },
    {
      "cell_type": "code",
      "source": [
        "print (tmp[:2,1:3])"
      ],
      "metadata": {
        "colab": {
          "base_uri": "https://localhost:8080/"
        },
        "id": "ENqWtf7ZTGl3",
        "outputId": "c2e0f145-e4a0-47eb-da34-0924e867b64e"
      },
      "execution_count": 4,
      "outputs": [
        {
          "output_type": "stream",
          "name": "stdout",
          "text": [
            "[[0.56987862 2.07195311]\n",
            " [6.92609307 5.61517262]]\n"
          ]
        }
      ]
    },
    {
      "cell_type": "code",
      "source": [
        "print (tmp [2,2])"
      ],
      "metadata": {
        "colab": {
          "base_uri": "https://localhost:8080/"
        },
        "id": "NAkHT-RuT9k1",
        "outputId": "5c73ca15-6394-4237-8c0f-5e0aa12f572a"
      },
      "execution_count": 5,
      "outputs": [
        {
          "output_type": "stream",
          "name": "stdout",
          "text": [
            "9.514592669718619\n"
          ]
        }
      ]
    },
    {
      "cell_type": "markdown",
      "source": [
        "Filtrar valores con mask"
      ],
      "metadata": {
        "id": "-JooA3HUUtxh"
      }
    },
    {
      "cell_type": "code",
      "source": [
        "mask = tmp>5\n",
        "print (tmp[mask])"
      ],
      "metadata": {
        "colab": {
          "base_uri": "https://localhost:8080/"
        },
        "id": "4ZMo5RfWUSqt",
        "outputId": "080254fa-9a8d-4005-c830-ed5d3b40686a"
      },
      "execution_count": 7,
      "outputs": [
        {
          "output_type": "stream",
          "name": "stdout",
          "text": [
            "[5.37325717 6.92609307 5.61517262 9.51459267]\n"
          ]
        }
      ]
    },
    {
      "cell_type": "code",
      "source": [
        "mask = (tmp>=2) & (tmp<=4)\n",
        "print (tmp[mask])"
      ],
      "metadata": {
        "colab": {
          "base_uri": "https://localhost:8080/"
        },
        "id": "LGVkU26eUyYy",
        "outputId": "6a6574df-a5e1-4bf1-ff8c-3a6f430baa19"
      },
      "execution_count": 8,
      "outputs": [
        {
          "output_type": "stream",
          "name": "stdout",
          "text": [
            "[2.4762185  2.07195311 3.76360205]\n"
          ]
        }
      ]
    },
    {
      "cell_type": "code",
      "source": [
        "tmp = np.random.randint(0,10,[4,4])\n",
        "print (tmp)"
      ],
      "metadata": {
        "colab": {
          "base_uri": "https://localhost:8080/"
        },
        "id": "qJBDyhscWgP1",
        "outputId": "47822af0-ca58-48b2-e7d8-6edd5c841124"
      },
      "execution_count": 9,
      "outputs": [
        {
          "output_type": "stream",
          "name": "stdout",
          "text": [
            "[[5 5 4 2]\n",
            " [0 2 7 1]\n",
            " [1 4 3 2]\n",
            " [1 0 8 0]]\n"
          ]
        }
      ]
    },
    {
      "cell_type": "markdown",
      "source": [
        "Extraer numeros pares"
      ],
      "metadata": {
        "id": "Lkqkwdc2Xmr2"
      }
    },
    {
      "cell_type": "code",
      "source": [
        "nrosEnteros = np.random.randint(0, 10, size=(4, 4))\n",
        "print(nrosEnteros)\n",
        "\n",
        "\n",
        "print('---------------------------')\n",
        "nrosEnteros = nrosEnteros[nrosEnteros % 2 == 0]\n",
        "print(nrosEnteros)\n"
      ],
      "metadata": {
        "id": "Zz0_Y9GPWwy-",
        "colab": {
          "base_uri": "https://localhost:8080/"
        },
        "outputId": "ee58b24e-d35b-42ba-8794-b4a3bd3d1eee"
      },
      "execution_count": 10,
      "outputs": [
        {
          "output_type": "stream",
          "name": "stdout",
          "text": [
            "[[5 1 9 7]\n",
            " [3 0 8 8]\n",
            " [2 9 1 1]\n",
            " [5 6 3 5]]\n",
            "---------------------------\n",
            "[0 8 8 2 6]\n"
          ]
        }
      ]
    }
  ]
}